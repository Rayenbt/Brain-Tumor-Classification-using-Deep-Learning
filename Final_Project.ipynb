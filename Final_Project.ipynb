{
 "cells": [
  {
   "cell_type": "markdown",
   "id": "05efe45c-5cae-4950-80a3-6ff5dcb25749",
   "metadata": {},
   "source": [
    "#### Importing Libraries"
   ]
  },
  {
   "cell_type": "code",
   "execution_count": 1,
   "id": "2c8e1af0-cc5b-4b60-a470-e27ab14da89c",
   "metadata": {},
   "outputs": [],
   "source": [
    "import os\n",
    "import pandas as pd\n",
    "from PIL import Image\n"
   ]
  },
  {
   "cell_type": "code",
   "execution_count": 2,
   "id": "6db938dc-2197-4bbd-8599-234b4ef7513e",
   "metadata": {},
   "outputs": [],
   "source": [
    "dataset_path = 'Dataset'\n",
    "subsets = ['Training','Testing'] # Dataset divided into 2 subsets: training and testing"
   ]
  },
  {
   "cell_type": "code",
   "execution_count": 3,
   "id": "a2615022-5207-4895-8c2e-5ee3fb2dabbf",
   "metadata": {},
   "outputs": [],
   "source": [
    "image_data = []\n",
    "\n",
    "for subset in subsets: # goes through the 2 subsets training and testing\n",
    "    subset_path = os.path.join(dataset_path,subset)\n",
    "    diagnoses = os.listdir(subset_path) # Returns a list of diagnoses\n",
    "\n",
    "    for diag in diagnoses: # iterates over the diagnoses\n",
    "        diagnoses_folder = os.path.join(subset_path, diag )\n",
    "        for img_file in os.listdir(diagnoses_folder):\n",
    "            img_path = os.path.join(diagnoses_folder, img_file) # gets the image path within the diagnoses folder \n",
    "            with Image.open(img_path) as img: \n",
    "                width, height = img.size # Collects the width, height, and mode of the images\n",
    "                mode = img.mode\n",
    "                image_data.append({ # adds all the collected info for each image to the list\n",
    "                    'subset':subset,\n",
    "                    'diagnosis': diag,\n",
    "                    'width': width,\n",
    "                    'height': height,\n",
    "                    'mode': mode\n",
    "                })\n",
    "\n",
    "\n",
    "df = pd.DataFrame(image_data)\n",
    "    "
   ]
  },
  {
   "cell_type": "code",
   "execution_count": 4,
   "id": "9873db01-e741-4c0e-b1be-4fb5e4b67217",
   "metadata": {},
   "outputs": [
    {
     "data": {
      "text/html": [
       "<div>\n",
       "<style scoped>\n",
       "    .dataframe tbody tr th:only-of-type {\n",
       "        vertical-align: middle;\n",
       "    }\n",
       "\n",
       "    .dataframe tbody tr th {\n",
       "        vertical-align: top;\n",
       "    }\n",
       "\n",
       "    .dataframe thead th {\n",
       "        text-align: right;\n",
       "    }\n",
       "</style>\n",
       "<table border=\"1\" class=\"dataframe\">\n",
       "  <thead>\n",
       "    <tr style=\"text-align: right;\">\n",
       "      <th></th>\n",
       "      <th>subset</th>\n",
       "      <th>diagnosis</th>\n",
       "      <th>width</th>\n",
       "      <th>height</th>\n",
       "      <th>mode</th>\n",
       "    </tr>\n",
       "  </thead>\n",
       "  <tbody>\n",
       "    <tr>\n",
       "      <th>0</th>\n",
       "      <td>Training</td>\n",
       "      <td>glioma</td>\n",
       "      <td>512</td>\n",
       "      <td>512</td>\n",
       "      <td>RGB</td>\n",
       "    </tr>\n",
       "    <tr>\n",
       "      <th>1</th>\n",
       "      <td>Training</td>\n",
       "      <td>glioma</td>\n",
       "      <td>512</td>\n",
       "      <td>512</td>\n",
       "      <td>RGB</td>\n",
       "    </tr>\n",
       "    <tr>\n",
       "      <th>2</th>\n",
       "      <td>Training</td>\n",
       "      <td>glioma</td>\n",
       "      <td>512</td>\n",
       "      <td>512</td>\n",
       "      <td>RGB</td>\n",
       "    </tr>\n",
       "    <tr>\n",
       "      <th>3</th>\n",
       "      <td>Training</td>\n",
       "      <td>glioma</td>\n",
       "      <td>512</td>\n",
       "      <td>512</td>\n",
       "      <td>RGB</td>\n",
       "    </tr>\n",
       "    <tr>\n",
       "      <th>4</th>\n",
       "      <td>Training</td>\n",
       "      <td>glioma</td>\n",
       "      <td>512</td>\n",
       "      <td>512</td>\n",
       "      <td>RGB</td>\n",
       "    </tr>\n",
       "  </tbody>\n",
       "</table>\n",
       "</div>"
      ],
      "text/plain": [
       "     subset diagnosis  width  height mode\n",
       "0  Training    glioma    512     512  RGB\n",
       "1  Training    glioma    512     512  RGB\n",
       "2  Training    glioma    512     512  RGB\n",
       "3  Training    glioma    512     512  RGB\n",
       "4  Training    glioma    512     512  RGB"
      ]
     },
     "execution_count": 4,
     "metadata": {},
     "output_type": "execute_result"
    }
   ],
   "source": [
    "df.head()"
   ]
  },
  {
   "cell_type": "code",
   "execution_count": null,
   "id": "53e156de-ca75-4f65-9be6-55a1e9f36f58",
   "metadata": {},
   "outputs": [],
   "source": []
  }
 ],
 "metadata": {
  "kernelspec": {
   "display_name": "Python (py310 - TensorFlow)",
   "language": "python",
   "name": "py310"
  },
  "language_info": {
   "codemirror_mode": {
    "name": "ipython",
    "version": 3
   },
   "file_extension": ".py",
   "mimetype": "text/x-python",
   "name": "python",
   "nbconvert_exporter": "python",
   "pygments_lexer": "ipython3",
   "version": "3.10.16"
  }
 },
 "nbformat": 4,
 "nbformat_minor": 5
}
